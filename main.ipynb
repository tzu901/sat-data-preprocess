{
 "cells": [
  {
   "cell_type": "code",
   "execution_count": 60,
   "metadata": {},
   "outputs": [],
   "source": [
    "import os\n",
    "import numpy as np\n",
    "import geopandas as gpd\n",
    "import rasterio\n",
    "from rasterio.mask import mask\n",
    "from rasterio.warp import calculate_default_transform, reproject\n",
    "from rasterio.enums import Resampling"
   ]
  },
  {
   "cell_type": "code",
   "execution_count": 61,
   "metadata": {},
   "outputs": [],
   "source": [
    "shp = gpd.read_file(\"E:/NTNU/urban_gis/project/data/study_area/study_area_v3.shp\")\n",
    "geo = shp.geometry\n",
    "bands = [\"B4\", \"B5\", \"B6\"]\n",
    "\n",
    "rasterfilePath = \"E:/NTNU/urban_gis/project/data\"\n",
    "\n",
    "rasterfileName = \"LC09_L1TP_117043_20230725_20230725_02_T1\"\n",
    "year = rasterfileName[17:21]\n",
    "\n",
    "r = f\"{rasterfilePath}/{rasterfileName}/{rasterfileName}_B4.TIF\"\n",
    "nir = f\"{rasterfilePath}/{rasterfileName}/{rasterfileName}_B5.TIF\"\n",
    "swir = f\"{rasterfilePath}/{rasterfileName}/{rasterfileName}_B6.TIF\"\n",
    "\n",
    "output_folder = f\"{rasterfilePath}/proj/{rasterfileName}\"\n",
    "os.makedirs(output_folder, exist_ok=True)"
   ]
  },
  {
   "cell_type": "code",
   "execution_count": 62,
   "metadata": {},
   "outputs": [],
   "source": [
    "for band in bands:\n",
    "    input_path = f\"{rasterfilePath}/{rasterfileName}/{rasterfileName}_{band}.TIF\"\n",
    "    output_path = f\"{output_folder}/{rasterfileName}_{band}.TIF\"\n",
    "\n",
    "    with rasterio.open(input_path) as src:\n",
    "        transform, width, height = calculate_default_transform(\n",
    "            src.crs, 'EPSG:3826', src.width, src.height, *src.bounds)\n",
    "        \n",
    "        kwargs = src.meta.copy()\n",
    "        kwargs.update({\n",
    "            'crs': 'EPSG:3826',\n",
    "            'transform': transform,\n",
    "            'width': width,\n",
    "            'height': height\n",
    "        })\n",
    "\n",
    "        with rasterio.open(output_path, 'w', **kwargs) as dst:\n",
    "            for i in range(1, src.count + 1):\n",
    "                reproject(\n",
    "                    source=rasterio.band(src, i),\n",
    "                    destination=rasterio.band(dst, i),\n",
    "                    src_transform=src.transform,\n",
    "                    src_crs=src.crs,\n",
    "                    dst_transform=transform,\n",
    "                    dst_crs='EPSG:3826',\n",
    "                    resampling=Resampling.nearest)"
   ]
  },
  {
   "cell_type": "code",
   "execution_count": 63,
   "metadata": {},
   "outputs": [],
   "source": [
    "def clip_raster(raster_path, shapes):\n",
    "    with rasterio.open(raster_path) as src:\n",
    "        out_image, out_transform = mask(src, shapes, crop=True)\n",
    "        out_meta = src.meta.copy()\n",
    "        out_meta.update({\"driver\": \"GTiff\",\n",
    "                         \"height\": out_image.shape[1],\n",
    "                         \"width\": out_image.shape[2],\n",
    "                         \"transform\": out_transform})\n",
    "    return out_image, out_meta\n",
    "\n",
    "for band in bands:\n",
    "    raster_path = f\"{output_folder}/{rasterfileName}_{band}.TIF\"\n",
    "    clipped, meta = clip_raster(raster_path, geo)\n",
    "\n",
    "    with rasterio.open(f\"proj/{rasterfileName}_{band}.tif\", \"w\", **meta) as dest:\n",
    "        dest.write(clipped)"
   ]
  },
  {
   "cell_type": "code",
   "execution_count": 64,
   "metadata": {},
   "outputs": [
    {
     "name": "stderr",
     "output_type": "stream",
     "text": [
      "C:\\Users\\Chang Tzu Cheng\\AppData\\Local\\Temp\\ipykernel_26492\\4275525968.py:11: RuntimeWarning: invalid value encountered in divide\n",
      "  ndvi = (nir - red) / (nir + red)\n",
      "C:\\Users\\Chang Tzu Cheng\\AppData\\Local\\Temp\\ipykernel_26492\\4275525968.py:12: RuntimeWarning: invalid value encountered in divide\n",
      "  ndbi = (swir - nir) / (swir + nir)\n",
      "c:\\ProgramData\\anaconda3\\envs\\arcpy\\lib\\site-packages\\numpy\\core\\_asarray.py:126: RuntimeWarning: invalid value encountered in cast\n",
      "  arr = array(a, dtype=dtype, order=order, copy=False, subok=subok)\n"
     ]
    }
   ],
   "source": [
    "def calculate_ndvi_ndbi(r, nir, swir):\n",
    "    with rasterio.open(r) as red_src:\n",
    "        red = red_src.read(1).astype('float32')\n",
    "\n",
    "    with rasterio.open(nir) as nir_src:\n",
    "        nir = nir_src.read(1).astype('float32')\n",
    "\n",
    "    with rasterio.open(swir) as swir_src:\n",
    "        swir = swir_src.read(1).astype('float32')\n",
    "\n",
    "    ndvi = (nir - red) / (nir + red)\n",
    "    ndbi = (swir - nir) / (swir + nir)\n",
    "\n",
    "    return ndvi, ndbi\n",
    "\n",
    "def save_tiff(data, file_path, meta):\n",
    "    with rasterio.open(file_path, \"w\", **meta) as dest:\n",
    "        dest.write(data, 1)\n",
    "\n",
    "r = f\"proj/{rasterfileName}_B4.tif\"\n",
    "nir = f\"proj/{rasterfileName}_B5.tif\"\n",
    "swir = f\"proj/{rasterfileName}_B6.tif\"\n",
    "\n",
    "ndvi, ndbi = calculate_ndvi_ndbi(r, nir, swir)\n",
    "\n",
    "save_tiff((ndvi + 1) * 32768, f\"ndvi/{year}_NDVI.tif\", meta)\n",
    "save_tiff((ndbi + 1) * 32768, f\"ndbi/{year}_NDBI.tif\", meta)"
   ]
  }
 ],
 "metadata": {
  "kernelspec": {
   "display_name": "pytorch",
   "language": "python",
   "name": "python3"
  },
  "language_info": {
   "codemirror_mode": {
    "name": "ipython",
    "version": 3
   },
   "file_extension": ".py",
   "mimetype": "text/x-python",
   "name": "python",
   "nbconvert_exporter": "python",
   "pygments_lexer": "ipython3",
   "version": "3.9.16"
  }
 },
 "nbformat": 4,
 "nbformat_minor": 2
}
